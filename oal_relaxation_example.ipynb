{
  "nbformat": 4,
  "nbformat_minor": 0,
  "metadata": {
    "colab": {
      "name": "oal_relaxation_example",
      "provenance": [],
      "include_colab_link": true
    },
    "kernelspec": {
      "name": "python3",
      "display_name": "Python 3"
    },
    "accelerator": "GPU"
  },
  "cells": [
    {
      "cell_type": "markdown",
      "metadata": {
        "id": "view-in-github",
        "colab_type": "text"
      },
      "source": [
        "<a href=\"https://colab.research.google.com/github/ulissigroup/Physics-Enabled-AL-MLP/blob/master/oal_relaxation_example.ipynb\" target=\"_parent\"><img src=\"https://colab.research.google.com/assets/colab-badge.svg\" alt=\"Open In Colab\"/></a>"
      ]
    },
    {
      "cell_type": "code",
      "metadata": {
        "id": "lKni75ixan9c",
        "colab_type": "code",
        "outputId": "b8c307df-cfd6-4f05-90a6-cea7a6412af0",
        "colab": {
          "base_uri": "https://localhost:8080/",
          "height": 340
        }
      },
      "source": [
        "!pip install  -q git+https://github.com/ulissigroup/amptorch.git@active_learning\n",
        "!pip install -q git+https://github.com/mshuaibii/SIMPLE-NN.git\n",
        "!pip install -q amp-atomistics\n",
        "!pip install -q --upgrade dftbook"
      ],
      "execution_count": 0,
      "outputs": [
        {
          "output_type": "stream",
          "text": [
            "\u001b[K     |████████████████████████████████| 296kB 4.5MB/s \n",
            "\u001b[K     |████████████████████████████████| 6.7MB 7.3MB/s \n",
            "\u001b[K     |████████████████████████████████| 102kB 15.2MB/s \n",
            "\u001b[K     |████████████████████████████████| 2.1MB 58.9MB/s \n",
            "\u001b[?25h  Building wheel for amptorch (setup.py) ... \u001b[?25l\u001b[?25hdone\n",
            "\u001b[K     |████████████████████████████████| 12.8MB 239kB/s \n",
            "\u001b[K     |████████████████████████████████| 110.5MB 59kB/s \n",
            "\u001b[K     |████████████████████████████████| 3.8MB 23.0MB/s \n",
            "\u001b[K     |████████████████████████████████| 512kB 29.8MB/s \n",
            "\u001b[?25h  Building wheel for simple-nn (setup.py) ... \u001b[?25lerror\n",
            "\u001b[31m  ERROR: Failed building wheel for simple-nn\u001b[0m\n",
            "\u001b[?25h  Building wheel for gast (setup.py) ... \u001b[?25l\u001b[?25hdone\n",
            "\u001b[31mERROR: tensorflow-probability 0.10.0rc0 has requirement gast>=0.3.2, but you'll have gast 0.2.2 which is incompatible.\u001b[0m\n",
            "\u001b[31mERROR: plotnine 0.6.0 has requirement matplotlib>=3.1.1, but you'll have matplotlib 2.2.5 which is incompatible.\u001b[0m\n",
            "\u001b[31mERROR: mizani 0.6.0 has requirement matplotlib>=3.1.1, but you'll have matplotlib 2.2.5 which is incompatible.\u001b[0m\n",
            "\u001b[31mERROR: albumentations 0.1.12 has requirement imgaug<0.2.7,>=0.2.5, but you'll have imgaug 0.2.9 which is incompatible.\u001b[0m\n",
            "    Running setup.py install for simple-nn ... \u001b[?25l\u001b[?25hdone\n",
            "\u001b[K     |████████████████████████████████| 102kB 3.9MB/s \n",
            "\u001b[?25h  Building wheel for amp-atomistics (setup.py) ... \u001b[?25l\u001b[?25hdone\n"
          ],
          "name": "stdout"
        }
      ]
    },
    {
      "cell_type": "code",
      "metadata": {
        "id": "TMl3V1_Ib7wb",
        "colab_type": "code",
        "outputId": "054cbc29-e1bb-4295-d259-c0070a971cc9",
        "colab": {
          "base_uri": "https://localhost:8080/",
          "height": 238
        }
      },
      "source": [
        "import multiprocessing as mp\n",
        "import copy\n",
        "import numpy as np\n",
        "\n",
        "import ase\n",
        "from ase.calculators.emt import EMT\n",
        "from ase.build import fcc100, add_adsorbate, molecule\n",
        "from ase.constraints import FixAtoms\n",
        "from ase.optimize import BFGS, QuasiNewton\n",
        "\n",
        "import torch\n",
        "\n",
        "from amptorch.model import CustomMSELoss\n",
        "from amptorch.active_learning.atomistic_methods  import MDsimulate, Relaxation\n",
        "from amptorch.active_learning.oal_calc  import AMPOnlineCalc\n",
        "\n",
        "import dftbook\n",
        "dftbook.setup_colab()\n",
        "from espresso import Espresso\n",
        "from ase.utils.eos import EquationOfState\n",
        "from ase.build import bulk\n",
        "import matplotlib\n",
        "import matplotlib.pyplot as plt\n",
        "from sklearn.metrics import mean_squared_error\n",
        "%matplotlib inline"
      ],
      "execution_count": 0,
      "outputs": [
        {
          "output_type": "stream",
          "text": [
            "Please be patient. This takes about 30 seconds.\n",
            "Installing ASE\n",
            "Installing ase-espresso\n",
            "Installing pseudopotentials\n",
            "Renaming pseudopotentials\n",
            "Almost there, setting environment pseudopotential path\n",
            "Installing MKL\n",
            "Getting the GPU pw.x executable\n",
            "Done installing GPU version of Quantum Espresso\n",
            "Setup is complete. Please visit https://github.com/jkitchin/dft-book-espresso to find the tutorials.\n",
            "Installation took 21.3 seconds\n"
          ],
          "name": "stdout"
        },
        {
          "output_type": "stream",
          "text": [
            "/usr/local/lib/python3.6/dist-packages/ase/utils/eos.py:5: UserWarning: Moved to ase.eos\n",
            "  warnings.warn('Moved to ase.eos')\n"
          ],
          "name": "stderr"
        }
      ]
    },
    {
      "cell_type": "code",
      "metadata": {
        "id": "Sj2cB2kV0Yrc",
        "colab_type": "code",
        "colab": {}
      },
      "source": [
        "def get_structure(base_calc):\n",
        "    energies = []\n",
        "    volumes = []\n",
        "    LC = [3.5, 3.55, 3.6, 3.65, 3.7, 3.75]\n",
        "\n",
        "    for a in LC:\n",
        "      cu_bulk = bulk('Cu', 'fcc', a=a)\n",
        "\n",
        "      calc = Espresso(xc='PBE',\n",
        "                  pw=500,\n",
        "                  calculation='scf',\n",
        "                  kpts=[12, 12, 12])\n",
        "\n",
        "      cu_bulk.set_calculator(calc)\n",
        "\n",
        "      e = cu_bulk.get_potential_energy()\n",
        "      energies.append(e)\n",
        "      volumes.append(cu_bulk.get_volume())\n",
        "\n",
        "\n",
        "    eos = EquationOfState(volumes, energies)\n",
        "    v0, e0, B = eos.fit()\n",
        "    aref=3.6\n",
        "    vref = bulk('Cu', 'fcc', a=aref).get_volume()\n",
        "\n",
        "    copper_lattice_constant = (v0/vref)**(1/3)*aref\n",
        "\n",
        "    slab = fcc100(\"Cu\", a=copper_lattice_constant, size=(2, 2, 3))\n",
        "    ads = molecule(\"C\")\n",
        "    add_adsorbate(slab, ads, 2, offset=(1, 1))\n",
        "    cons = FixAtoms(\n",
        "      indices=[atom.index for atom in slab if (atom.tag == 3)]\n",
        "    )\n",
        "    slab.set_constraint(cons)\n",
        "    slab.center(vacuum=13.0, axis=2)\n",
        "    slab.set_pbc(True)\n",
        "    slab.wrap(pbc=[True] * 3)\n",
        "    slab.set_calculator(copy.copy(base_calc))\n",
        "    slab.set_initial_magnetic_moments()\n",
        "\n",
        "    return slab"
      ],
      "execution_count": 0,
      "outputs": []
    },
    {
      "cell_type": "code",
      "metadata": {
        "id": "ibvoqlqZdZH8",
        "colab_type": "code",
        "colab": {}
      },
      "source": [
        "  def main():\n",
        "    base_calc = Espresso(pw=500.0, \n",
        "              calculation='scf',\n",
        "              kpts=(4,4,1),\n",
        "              xc='PBE')\n",
        "    \n",
        "    slab = get_structure(base_calc)\n",
        "\n",
        "    Gs = {}\n",
        "    Gs[\"G2_etas\"] = np.logspace(np.log10(0.05), np.log10(5.0), num=4)\n",
        "    Gs[\"G2_rs_s\"] = [0] * 4\n",
        "    Gs[\"G4_etas\"] = [0.005]\n",
        "    Gs[\"G4_zetas\"] = [1.0, 4.0]\n",
        "    Gs[\"G4_gammas\"] = [+1.0, -1]\n",
        "    Gs[\"cutoff\"] = 5.876798323827276  # EMT asap_cutoff: False\n",
        "\n",
        "    images = [slab]\n",
        "\n",
        "    training_params = {\n",
        "      \"uncertain_tol\": 0.1,\n",
        "      \"Gs\": Gs,\n",
        "      \"morse\": True,\n",
        "      \"forcetraining\": True,\n",
        "      \"cores\": 3,\n",
        "      \"optimizer\": torch.optim.LBFGS,\n",
        "      \"batch_size\": 1000,\n",
        "      \"criterion\": CustomMSELoss,\n",
        "      \"num_layers\": 3,\n",
        "      \"num_nodes\": 20,\n",
        "      \"force_coefficient\": 0.04,\n",
        "      \"learning_rate\": 1e-1,\n",
        "      \"epochs\": 300,\n",
        "      \"test_split\": 0,\n",
        "      \"shuffle\": False,\n",
        "      \"filename\": \"oal_test\",\n",
        "      \"verbose\": 1\n",
        "    }\n",
        "\n",
        "    structure_optim = Relaxation(slab, BFGS, fmax=0.05, steps=50)\n",
        "    online_calc = AMPOnlineCalc(parent_dataset=images, parent_calc=base_calc, n_ensembles=5, n_cores=2, training_params=training_params)\n",
        "    structure_optim.run(online_calc, filename='relax_oal')\n",
        "\n",
        "    # Calculate true relaxation\n",
        "    true_relax = Relaxation(slab, BFGS)\n",
        "    true_relax.run(copy.copy(base_calc), 'true_relax')\n",
        "    parent_calc_traj = true_relax.get_trajectory('true_relax', 0, -1, 1)\n",
        "    n_parent_calls = online_calc.parent_calls\n",
        "    final_oal_traj = ase.io.read(\"./relax_oal.traj\", \":\")\n",
        "\n",
        "    # Visualize Results\n",
        "\n",
        "    # Calculate true relaxation\n",
        "    parent_calc_traj = true_relax.get_trajectory('true_relax', 0, -1, 1)\n",
        "    n_parent_calls = online_calc.parent_calls\n",
        "    final_oal_traj = ase.io.read(\"./relax_oal.traj\", \":\")\n",
        "\n",
        "    #Compute ML predicted energies\n",
        "    ml_relaxation_energies = [image.get_potential_energy() for image in final_oal_traj]\n",
        "    #Compute actual (DFT) energies for ML predicted structures\n",
        "    dft_evaluated_ml_energies = [copy.copy(base_calc).get_potential_energy(image) for image in final_oal_traj]\n",
        "    #Compute actual energies for EMT relaxation structures\n",
        "    dft_relaxation_energies = [image.get_potential_energy() for image in parent_calc_traj]\n",
        "    ml_steps = range(len(final_oal_traj))\n",
        "    dft_steps = range(len(parent_calc_traj))\n",
        "\n",
        "    plt.plot(ml_steps, ml_relaxation_energies, '--b', label='OAL_relaxation')\n",
        "    plt.plot(ml_steps, dft_evaluated_ml_energies, '-g', label='DFT@OAL_relaxation')\n",
        "    plt.plot(dft_steps, dft_relaxation_energies, '-r', label='DFT_relaxation')\n",
        "    plt.xlabel(\"Steps\")\n",
        "    plt.ylabel(\"Energy, eV\")\n",
        "    plt.title('OAL vs DFT Relaxation')\n",
        "    plt.legend()\n",
        "    plt.show()\n",
        "\n",
        "    def compute_loss(a, b):\n",
        "      return np.mean(np.sqrt(np.sum((a - b)**2, axis=1)))\n",
        "\n",
        "    initial_structure = images[0].positions\n",
        "    print(f'Number of OAL steps: {len(final_oal_traj)}\\nTotal # of queries (DFT calls): {n_parent_calls} \\n')\n",
        "    print(f\"Final OAL Relaxed Energy: {ml_relaxation_energies[-1]}\")\n",
        "    print(f'DFT evaluation at AL structure: {dft_evaluated_ml_energies[-1]}\\n')\n",
        "    al_relaxed_structure = final_oal_traj[-1].positions\n",
        "\n",
        "    print(f'Total number of DFT steps: {len(dft_relaxation_energies)}')\n",
        "    print(f'Final DFT Relaxed Energy: {dft_relaxation_energies[-1]}\\n')\n",
        "    dft_relaxed_structure = parent_calc_traj[-1].positions\n",
        "\n",
        "\n",
        "    initial_structure_error = compute_loss(initial_structure, dft_relaxed_structure)\n",
        "    relaxed_structure_error = compute_loss(al_relaxed_structure, dft_relaxed_structure)\n",
        "\n",
        "    print(f'Initial structure error: {initial_structure_error}')\n",
        "    print(f'AL relaxed structure error: {relaxed_structure_error}')"
      ],
      "execution_count": 0,
      "outputs": []
    },
    {
      "cell_type": "code",
      "metadata": {
        "id": "x5d0qsFSwAdv",
        "colab_type": "code",
        "outputId": "a14933c8-0b2e-49fe-a471-fa76dc8213c9",
        "colab": {
          "base_uri": "https://localhost:8080/",
          "height": 1000
        }
      },
      "source": [
        "if __name__ == \"__main__\":\n",
        "  try:\n",
        "    mp.set_start_method(\"spawn\")\n",
        "  except:\n",
        "    if mp.get_start_method() == \"spawn\":\n",
        "      pass\n",
        "    else:\n",
        "      raise Exception('Wrong mp start method!')\n",
        "  main()"
      ],
      "execution_count": 0,
      "outputs": [
        {
          "output_type": "stream",
          "text": [
            "      Step     Time          Energy         fmax\n",
            "BFGS:    0 13:12:33   -66070.351562        2.8550\n",
            "BFGS:    1 13:12:33   -66070.515625        2.3400\n",
            "BFGS:    2 13:12:33   -66070.617188        1.6712\n",
            "BFGS:    3 13:12:34   -66070.664062        0.9350\n",
            "BFGS:    4 13:12:34   -66070.703125        1.4427\n",
            "BFGS:    5 13:20:27   -66070.851782        0.6579\n",
            "BFGS:    6 13:20:27   -66070.867188        0.5714\n",
            "BFGS:    7 13:27:23   -66070.887001        0.9519\n",
            "BFGS:    8 13:27:24   -66070.898438        1.2235\n",
            "BFGS:    9 13:34:06   -66070.923742        0.9099\n",
            "BFGS:   10 13:42:37   -66070.946777        0.7378\n",
            "BFGS:   11 13:50:43   -66070.961303        0.4781\n",
            "BFGS:   12 13:50:43   -66070.968750        0.1835\n",
            "BFGS:   13 13:50:43   -66070.968750        0.1295\n",
            "BFGS:   14 13:50:43   -66070.968750        0.1247\n",
            "BFGS:   15 13:50:44   -66070.968750        0.1297\n",
            "BFGS:   16 13:50:44   -66070.976562        0.1646\n",
            "BFGS:   17 13:50:44   -66070.968750        0.1859\n",
            "BFGS:   18 13:50:45   -66070.976562        0.2022\n",
            "BFGS:   19 13:50:45   -66070.960938        0.2623\n",
            "BFGS:   20 13:50:45   -66070.984375        0.1141\n",
            "BFGS:   21 13:50:45   -66070.976562        0.1674\n",
            "BFGS:   22 13:50:46   -66070.976562        0.2331\n",
            "BFGS:   23 13:50:46   -66070.984375        0.1827\n",
            "BFGS:   24 13:50:46   -66070.984375        0.3370\n",
            "BFGS:   25 13:50:47   -66070.976562        0.1682\n",
            "BFGS:   26 13:50:47   -66070.984375        0.1587\n",
            "BFGS:   27 13:50:47   -66070.976562        0.1477\n",
            "BFGS:   28 13:50:47   -66070.953125        0.4725\n",
            "BFGS:   29 13:50:48   -66070.976562        0.1418\n",
            "BFGS:   30 13:50:48   -66070.976562        0.1335\n",
            "BFGS:   31 13:50:48   -66070.984375        0.0765\n",
            "BFGS:   32 13:50:49   -66070.976562        0.1067\n",
            "BFGS:   33 13:50:49   -66070.976562        0.1051\n",
            "BFGS:   34 13:50:49   -66070.976562        0.1079\n",
            "BFGS:   35 13:50:49   -66070.984375        0.0809\n",
            "BFGS:   36 13:50:50   -66070.984375        0.0837\n",
            "BFGS:   37 13:50:50   -66070.984375        0.0848\n",
            "BFGS:   38 13:50:50   -66070.984375        0.0957\n",
            "BFGS:   39 13:50:51   -66070.984375        0.1095\n",
            "BFGS:   40 13:50:51   -66070.984375        0.3296\n",
            "BFGS:   41 13:50:51   -66070.984375        0.3506\n",
            "BFGS:   42 13:50:51   -66070.984375        0.3560\n",
            "BFGS:   43 13:50:52   -66070.984375        0.5659\n",
            "BFGS:   44 13:58:58   -66070.966338        0.3405\n",
            "BFGS:   45 13:58:59   -66070.976562        0.3462\n",
            "BFGS:   46 13:58:59   -66070.976562        0.1140\n",
            "BFGS:   47 13:58:59   -66070.968750        0.5736\n",
            "BFGS:   48 13:59:00   -66070.976562        0.1384\n",
            "BFGS:   49 13:59:00   -66070.976562        0.1056\n",
            "BFGS:   50 13:59:00   -66070.976562        0.1551\n",
            "      Step     Time          Energy         fmax\n",
            "BFGS:    0 14:00:50   -66070.355359        2.8550\n",
            "BFGS:    1 14:02:41   -66070.533297        2.5521\n",
            "BFGS:    2 14:04:39   -66070.676462        2.0562\n",
            "BFGS:    3 14:06:17   -66070.773054        1.3336\n",
            "BFGS:    4 14:07:44   -66070.816040        0.4667\n",
            "BFGS:    5 14:09:16   -66070.825431        0.6628\n",
            "BFGS:    6 14:10:46   -66070.853425        0.9192\n",
            "BFGS:    7 14:12:16   -66070.881618        0.9797\n",
            "BFGS:    8 14:13:42   -66070.908954        0.8594\n",
            "BFGS:    9 14:15:10   -66070.929686        0.6575\n",
            "BFGS:   10 14:16:37   -66070.943970        0.3759\n",
            "BFGS:   11 14:18:06   -66070.953104        0.2153\n",
            "BFGS:   12 14:19:36   -66070.957917        0.1916\n",
            "BFGS:   13 14:21:06   -66070.964632        0.2464\n",
            "BFGS:   14 14:22:31   -66070.967995        0.2154\n",
            "BFGS:   15 14:24:01   -66070.970295        0.0889\n",
            "BFGS:   16 14:25:26   -66070.971458        0.0917\n",
            "BFGS:   17 14:26:50   -66070.973970        0.1835\n",
            "BFGS:   18 14:28:19   -66070.974922        0.1567\n",
            "BFGS:   19 14:29:43   -66070.976193        0.0832\n",
            "BFGS:   20 14:31:08   -66070.976259        0.0765\n",
            "BFGS:   21 14:32:37   -66070.976258        0.0627\n",
            "BFGS:   22 14:34:01   -66070.976296        0.0705\n",
            "BFGS:   23 14:35:29   -66070.976636        0.0409\n"
          ],
          "name": "stdout"
        },
        {
          "output_type": "display_data",
          "data": {
            "image/png": "[encoded data removed]",
            "text/plain": [
              "<Figure size 432x288 with 1 Axes>"
            ]
          },
          "metadata": {
            "tags": [],
            "needs_background": "light"
          }
        },
        {
          "output_type": "stream",
          "text": [
            "Number of OAL steps: 51\n",
            "Total # of queries (DFT calls): 6 \n",
            "\n",
            "Final OAL Relaxed Energy: -66070.9765625\n",
            "DFT evaluation at AL structure: -66070.97750767077\n",
            "\n",
            "Total number of DFT steps: 23\n",
            "Final DFT Relaxed Energy: -66070.97629608383\n",
            "\n",
            "Initial structure error: 0.0770979164511575\n",
            "AL relaxed structure error: 0.005536081658527684\n"
          ],
          "name": "stdout"
        }
      ]
    }
  ]
}